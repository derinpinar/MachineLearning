{
 "cells": [
  {
   "cell_type": "code",
   "execution_count": 15,
   "metadata": {},
   "outputs": [],
   "source": [
    "# Simple Linear Regression\n",
    "\n",
    "# Importing the libraries\n",
    "import numpy as np\n",
    "import matplotlib.pyplot as plt\n",
    "import pandas as pd\n",
    "\n",
    "values= [[1,40,25],[2,45,20],[1,38,30],[3,50,30],[2,48,28],[3,55,30],[3,53,34],[4,55,36],[4,58,32],\n",
    "         [3,40,34],[5,55,38],[3,48,28],[3,45,30],[2,55,36],[4,60,34],[5,60,38],[5,60,42],[5,65,38],\n",
    "         [4,50,34],[3,58,38],[3,50,30]]\n",
    "\n",
    "column=['Y','X1','X2']\n",
    "\n",
    "# Importing the dataset\n",
    "dataset = pd.DataFrame(values,columns=column)\n",
    "X = dataset.iloc[:, 1:].values\n",
    "y = dataset.iloc[:, 0].values"
   ]
  },
  {
   "cell_type": "code",
   "execution_count": 16,
   "metadata": {},
   "outputs": [
    {
     "name": "stdout",
     "output_type": "stream",
     "text": [
      "MultiLineerRegression.md dokumanında anlatıldığı gibi test sonuçları 50 ve 30 olan  \n",
      "bir çalışanın 2.844918369603273 maaş alacağı tahminlenmekte\n",
      "--------------------------------------------------\n",
      "Lineer Regresyon Denklemi --> y = 0.08640900619401233x1 + 0.0876016431374923x2 + -4.103581234222112\n"
     ]
    }
   ],
   "source": [
    "# Splitting the dataset into the Training set and Test set\n",
    "#from sklearn.model_selection import train_test_split\n",
    "#X_train, X_test, y_train, y_test = train_test_split(X, y, test_size = 1/3, random_state = 0)\n",
    "test_row=20\n",
    "train_idx=np.arange(X.shape[0])!= test_row\n",
    "test_idx=np.arange(X.shape[0])==test_row\n",
    "X_train,X_test,y_train,y_test = X[train_idx],X[test_idx],y[train_idx],y[test_idx]\n",
    "\n",
    "\n",
    "# Feature Scaling\n",
    "\"\"\"from sklearn.preprocessing import StandardScaler\n",
    "sc_X = StandardScaler()\n",
    "X_train = sc_X.fit_transform(X_train)\n",
    "X_test = sc_X.transform(X_test)\n",
    "sc_y = StandardScaler()\n",
    "y_train = sc_y.fit_transform(y_train.reshape(-1,1))\"\"\"\n",
    "\n",
    "\n",
    "# Fitting Simple Linear Regression to the Training set\n",
    "from sklearn.linear_model import LinearRegression\n",
    "regressor = LinearRegression()\n",
    "regressor.fit(X_train, y_train)\n",
    "\n",
    "# Predicting the Test set results\n",
    "y_pred = regressor.predict(X_test)\n",
    "\n",
    "\n",
    "print(\"MultiLineerRegression.md dokumanında anlatıldığı gibi test sonuçları 50 ve 30 olan  \\nbir çalışanın {} maaş alacağı \\\n",
    "tahminlenmekte\".format(y_pred[0]))\n",
    "print(\"-\"*50)\n",
    "print(\"Lineer Regresyon Denklemi --> y = {}x1 + {}x2 + {}\".format(regressor.coef_[0],regressor.coef_[1],regressor.intercept_))\n"
   ]
  }
 ],
 "metadata": {
  "kernelspec": {
   "display_name": "Python 3",
   "language": "python",
   "name": "python3"
  },
  "language_info": {
   "codemirror_mode": {
    "name": "ipython",
    "version": 3
   },
   "file_extension": ".py",
   "mimetype": "text/x-python",
   "name": "python",
   "nbconvert_exporter": "python",
   "pygments_lexer": "ipython3",
   "version": "3.7.6"
  }
 },
 "nbformat": 4,
 "nbformat_minor": 4
}
