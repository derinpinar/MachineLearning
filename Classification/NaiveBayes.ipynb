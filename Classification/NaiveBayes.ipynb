{
 "cells": [
  {
   "cell_type": "code",
   "execution_count": 74,
   "metadata": {},
   "outputs": [],
   "source": [
    "# Naive Bayes\n",
    "\n",
    "# Importing the libraries\n",
    "import numpy as np\n",
    "import matplotlib.pyplot as plt\n",
    "import pandas as pd\n",
    "\n",
    "# Importing the dataset same as sample in NavieBayes.md\n",
    "\n",
    "col = ['Meslek','Maaş','Yaş','Tecrübe']\n",
    "values = [['Mimar',3000,26,4],['Müzisyen',1500,22,2],['Mimar',5000,30,9],['Müzisyen',2000,30,7],\n",
    "         ['Müzisyen',500,18,3],['Mimar',2000,20,2],['Mimar',7000,29,5],['Müzisyen',6000,45,15]]\n",
    "\n",
    "prediction_values = [[3000,30,5]]\n",
    "dataset = pd.DataFrame(values,columns=col)"
   ]
  },
  {
   "cell_type": "code",
   "execution_count": 86,
   "metadata": {},
   "outputs": [
    {
     "name": "stdout",
     "output_type": "stream",
     "text": [
      "NaviceBayes.md dokumanında anlatıldığı gibi 3000 maaş 30 yaş ve 5 yıl tecrübe ['Müzisyen'] olarak sınıflanmakta\n",
      "Confusion Matrisi: \n",
      " [[0 2]\n",
      " [0 0]]\n"
     ]
    }
   ],
   "source": [
    "X = dataset.iloc[:, 1:4].values\n",
    "y = dataset.iloc[:, 0].values\n",
    "\n",
    "# Splitting the dataset into the Training set and Test set\n",
    "from sklearn.model_selection import train_test_split\n",
    "X_train, X_test, y_train, y_test = train_test_split(X, y, test_size = 0.25, random_state = 0)\n",
    "\n",
    "# Feature Scaling\n",
    "from sklearn.preprocessing import StandardScaler\n",
    "sc = StandardScaler()\n",
    "X_train = sc.fit_transform(X_train)\n",
    "X_test = sc.transform(X_test)\n",
    "pred_val = sc.transform(pd.DataFrame(prediction_values))\n",
    "\n",
    "# Fitting Naive Bayes to the Training set\n",
    "from sklearn.naive_bayes import GaussianNB\n",
    "classifier = GaussianNB()\n",
    "classifier.fit(X_train, y_train)\n",
    "\n",
    "# Predicting the Test set results\n",
    "y_pred = classifier.predict(X_test)\n",
    "predicted = classifier.predict(pred_val)\n",
    "\n",
    "\n",
    "# Making the Confusion Matrix\n",
    "from sklearn.metrics import confusion_matrix\n",
    "cm = confusion_matrix(y_test, y_pred)\n",
    "\n",
    "print(\"NaviceBayes.md dokumanında anlatıldığı gibi 3000 maaş 30 yaş ve 5 yıl tecrübe {} olarak sınıflanmakta\".format(predicted))\n",
    "print(\"Confusion Matrisi: \\n\",cm)"
   ]
  },
  {
   "cell_type": "code",
   "execution_count": null,
   "metadata": {},
   "outputs": [],
   "source": []
  }
 ],
 "metadata": {
  "kernelspec": {
   "display_name": "Python 3",
   "language": "python",
   "name": "python3"
  },
  "language_info": {
   "codemirror_mode": {
    "name": "ipython",
    "version": 3
   },
   "file_extension": ".py",
   "mimetype": "text/x-python",
   "name": "python",
   "nbconvert_exporter": "python",
   "pygments_lexer": "ipython3",
   "version": "3.7.6"
  }
 },
 "nbformat": 4,
 "nbformat_minor": 4
}
